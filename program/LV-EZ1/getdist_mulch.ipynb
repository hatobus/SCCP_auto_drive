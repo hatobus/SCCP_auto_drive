{
 "cells": [
  {
   "cell_type": "markdown",
   "metadata": {},
   "source": [
    "# LV-EZ1\n",
    "\n",
    "測距モジュールです．\n",
    "\n",
    "http://www.maxbotix.com/Raspberry-Pi-with-Ultrasonic-Sensors-144/\n",
    "\n",
    "ここら辺を見れば何とかなる可能性が高い．\n",
    "\n",
    "ここがけっこう参考になった．\n",
    "\n",
    "https://www.raspberrypi.org/forums/viewtopic.php?t=36593&p=316692#"
   ]
  },
  {
   "cell_type": "code",
   "execution_count": 2,
   "metadata": {},
   "outputs": [
    {
     "name": "stdout",
     "output_type": "stream",
     "text": [
      "Ultrasonic Measurement\n",
      "  Distance1 : 28.5 cm Distance2 : 108.5 cm Distance3 : 39.3 cm\n",
      "  Distance1 : 28.5 cm Distance2 : 50.1 cm Distance3 : 39.3 cm\n",
      "  Distance1 : 28.5 cm Distance2 : 50.0 cm Distance3 : 39.3 cm\n",
      "  Distance1 : 28.5 cm Distance2 : 50.1 cm Distance3 : 39.3 cm\n",
      "  Distance1 : 28.5 cm Distance2 : 50.0 cm Distance3 : 39.3 cm\n",
      "  Distance1 : 28.5 cm Distance2 : 50.0 cm Distance3 : 39.3 cm\n",
      "  Distance1 : 28.5 cm Distance2 : 47.5 cm Distance3 : 39.3 cm\n",
      "  Distance1 : 28.5 cm Distance2 : 47.5 cm Distance3 : 39.3 cm\n",
      "  Distance1 : 28.5 cm Distance2 : 50.0 cm Distance3 : 39.3 cm\n",
      "Stop\n"
     ]
    }
   ],
   "source": [
    "import time\n",
    "import RPi.GPIO as GPIO\n",
    "\n",
    "# Use BCM GPIO references\n",
    "# instead of physical pin numbers\n",
    "GPIO.setmode(GPIO.BCM)\n",
    "\n",
    "# Define GPIO to use on Pi\n",
    "#GPIO_TRIGECHO = 19\n",
    "\n",
    "print \"Ultrasonic Measurement\"\n",
    "\n",
    "# Set pins as output and input\n",
    "#GPIO.setup(GPIO_TRIGECHO,GPIO.OUT)  # Initial state as output\n",
    "\n",
    "\n",
    "# Set trigger to False (Low)\n",
    "#GPIO.output(GPIO_TRIGECHO, False)\n",
    "\n",
    "def measure(gp):\n",
    "    GPIO_TRIGECHO = gp \n",
    "    GPIO.setup(GPIO_TRIGECHO,GPIO.OUT)\n",
    "    GPIO.output(GPIO_TRIGECHO, False)\n",
    "  # This function measures a distance\n",
    "  # Pulse the trigger/echo line to initiate a measurement\n",
    "    GPIO.output(GPIO_TRIGECHO, True)\n",
    "    time.sleep(0.00001)\n",
    "    GPIO.output(GPIO_TRIGECHO, False)\n",
    "  #ensure start time is set in case of very quick return\n",
    "    start = time.time()\n",
    "\n",
    "  # set line to input to check for start of echo response\n",
    "    GPIO.setup(GPIO_TRIGECHO, GPIO.IN)\n",
    "    while GPIO.input(GPIO_TRIGECHO)==0:\n",
    "        start = time.time()\n",
    "\n",
    "  # Wait for end of echo response\n",
    "    while GPIO.input(GPIO_TRIGECHO)==1:\n",
    "        stop = time.time()\n",
    "  \n",
    "    GPIO.setup(GPIO_TRIGECHO, GPIO.OUT)\n",
    "    GPIO.output(GPIO_TRIGECHO, False)\n",
    "\n",
    "    elapsed = stop-start\n",
    "    distance = (elapsed * 34300)/2.0\n",
    "    time.sleep(0.1)\n",
    "    return distance\n",
    "\n",
    "try:\n",
    "\n",
    "    while True:\n",
    "\n",
    "        distance = measure(19)\n",
    "        #time.sleep(0.01)\n",
    "        distance2 = measure(6)\n",
    "        distance3 = measure(26)\n",
    "        print \"  Distance1 : %.1f cm Distance2 : %.1f cm Distance3 : %.1f cm\" % (distance,distance2,distance3)\n",
    "        time.sleep(1)\n",
    "\n",
    "except KeyboardInterrupt:\n",
    "    print(\"Stop\")\n",
    "    GPIO.cleanup()"
   ]
  },
  {
   "cell_type": "markdown",
   "metadata": {
    "collapsed": true
   },
   "source": [
    "## グラフにプロットする"
   ]
  },
  {
   "cell_type": "code",
   "execution_count": 4,
   "metadata": {},
   "outputs": [
    {
     "name": "stdout",
     "output_type": "stream",
     "text": [
      "Back sensor\n",
      "[28.46677303314209, 28.434062004089355, 28.41770648956299, 28.503572940826416]\n",
      "Backward Left\n",
      "[50.06014108657837, 47.504591941833496, 50.043785572052, 50.01107454299927]\n",
      "Backward Right\n",
      "[39.29412364959717, 39.30639028549194, 39.30639028549194, 39.290034770965576]\n"
     ]
    },
    {
     "data": {
      "image/png": "[encoded data removed]",
      "text/plain": [
       "<matplotlib.figure.Figure at 0x7592add0>"
      ]
     },
     "metadata": {},
     "output_type": "display_data"
    }
   ],
   "source": [
    "import time\n",
    "import RPi.GPIO as GPIO\n",
    "import numpy as np\n",
    "import matplotlib.pyplot as plt\n",
    "\n",
    "%matplotlib inline\n",
    "\n",
    "GPIO.setmode(GPIO.BCM)\n",
    "\n",
    "dlist1 = []\n",
    "dlist2 = []\n",
    "dlist3 = []\n",
    "\n",
    "def measure(gp):\n",
    "    GPIO_TRIGECHO = gp \n",
    "    GPIO.setup(GPIO_TRIGECHO,GPIO.OUT)\n",
    "    GPIO.output(GPIO_TRIGECHO, False)\n",
    "  # This function measures a distance\n",
    "  # Pulse the trigger/echo line to initiate a measurement\n",
    "    GPIO.output(GPIO_TRIGECHO, True)\n",
    "    time.sleep(0.00001)\n",
    "    GPIO.output(GPIO_TRIGECHO, False)\n",
    "  #ensure start time is set in case of very quick return\n",
    "    start = time.time()\n",
    "\n",
    "  # set line to input to check for start of echo response\n",
    "    GPIO.setup(GPIO_TRIGECHO, GPIO.IN)\n",
    "    while GPIO.input(GPIO_TRIGECHO)==0:\n",
    "        start = time.time()\n",
    "\n",
    "  # Wait for end of echo response\n",
    "    while GPIO.input(GPIO_TRIGECHO)==1:\n",
    "        stop = time.time()\n",
    "  \n",
    "    GPIO.setup(GPIO_TRIGECHO, GPIO.OUT)\n",
    "    GPIO.output(GPIO_TRIGECHO, False)\n",
    "\n",
    "    elapsed = stop-start\n",
    "    distance = (elapsed * 34300)/2.0\n",
    "    time.sleep(0.1)\n",
    "    return distance\n",
    "\n",
    "try:\n",
    "\n",
    "    while True:\n",
    "\n",
    "        dlist1.append(measure(19))\n",
    "        dlist2.append(measure(6))\n",
    "        dlist3.append(measure(26))\n",
    "        #print \"  Distance1 : %.1f cm Distance2 : %.1f cm Distance3 : %.1f cm\" % (distance,distance2,distance3)\n",
    "        time.sleep(1)\n",
    "\n",
    "except KeyboardInterrupt:\n",
    "    print(\"Back sensor\")\n",
    "    print(dlist1)\n",
    "    print(\"Backward Left\")\n",
    "    print(dlist2)\n",
    "    print(\"Backward Right\")\n",
    "    print(dlist3)\n",
    "    plt.plot(dlist1)\n",
    "    plt.plot(dlist2)\n",
    "    plt.plot(dlist3)\n",
    "    plt.show()\n",
    "    GPIO.cleanup()"
   ]
  },
  {
   "cell_type": "code",
   "execution_count": null,
   "metadata": {
    "collapsed": true
   },
   "outputs": [],
   "source": []
  }
 ],
 "metadata": {
  "kernelspec": {
   "display_name": "Python 2",
   "language": "python",
   "name": "python2"
  },
  "language_info": {
   "codemirror_mode": {
    "name": "ipython",
    "version": 2
   },
   "file_extension": ".py",
   "mimetype": "text/x-python",
   "name": "python",
   "nbconvert_exporter": "python",
   "pygments_lexer": "ipython2",
   "version": "2.7.9"
  }
 },
 "nbformat": 4,
 "nbformat_minor": 2
}
