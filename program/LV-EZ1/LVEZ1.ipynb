{
 "cells": [
  {
   "cell_type": "markdown",
   "metadata": {},
   "source": [
    "# LV-EZ1\n",
    "\n",
    "測距モジュールです．\n",
    "\n",
    "http://www.maxbotix.com/Raspberry-Pi-with-Ultrasonic-Sensors-144/\n",
    "\n",
    "ここら辺を見れば何とかなる可能性が高い．（現時点でプログラムができていない）"
   ]
  },
  {
   "cell_type": "code",
   "execution_count": 1,
   "metadata": {},
   "outputs": [
    {
     "ename": "IOError",
     "evalue": "[Errno 25] Inappropriate ioctl for device",
     "output_type": "error",
     "traceback": [
      "\u001b[0;31m\u001b[0m",
      "\u001b[0;31mIOError\u001b[0mTraceback (most recent call last)",
      "\u001b[0;32m<ipython-input-1-8f50e8829fac>\u001b[0m in \u001b[0;36m<module>\u001b[0;34m()\u001b[0m\n\u001b[1;32m     45\u001b[0m \u001b[0;34m\u001b[0m\u001b[0m\n\u001b[1;32m     46\u001b[0m \u001b[0;32mif\u001b[0m \u001b[0m__name__\u001b[0m \u001b[0;34m==\u001b[0m \u001b[0;34m'__main__'\u001b[0m\u001b[0;34m:\u001b[0m\u001b[0;34m\u001b[0m\u001b[0m\n\u001b[0;32m---> 47\u001b[0;31m     \u001b[0mmeasurement\u001b[0m \u001b[0;34m=\u001b[0m \u001b[0mmeasure\u001b[0m\u001b[0;34m(\u001b[0m\u001b[0mserialDevice\u001b[0m\u001b[0;34m)\u001b[0m\u001b[0;34m\u001b[0m\u001b[0m\n\u001b[0m\u001b[1;32m     48\u001b[0m     \u001b[0;32mprint\u001b[0m\u001b[0;34m(\u001b[0m\u001b[0;34m\"distance =\"\u001b[0m\u001b[0;34m,\u001b[0m\u001b[0mmeasurement\u001b[0m\u001b[0;34m)\u001b[0m\u001b[0;34m\u001b[0m\u001b[0m\n",
      "\u001b[0;32m<ipython-input-1-8f50e8829fac>\u001b[0m in \u001b[0;36mmeasure\u001b[0;34m(portName)\u001b[0m\n\u001b[1;32m     19\u001b[0m \u001b[0;34m\u001b[0m\u001b[0m\n\u001b[1;32m     20\u001b[0m     \u001b[0;32mwhile\u001b[0m \u001b[0mtime\u001b[0m\u001b[0;34m(\u001b[0m\u001b[0;34m)\u001b[0m \u001b[0;34m<\u001b[0m \u001b[0mtimeStart\u001b[0m \u001b[0;34m+\u001b[0m \u001b[0mmaxwait\u001b[0m\u001b[0;34m:\u001b[0m\u001b[0;34m\u001b[0m\u001b[0m\n\u001b[0;32m---> 21\u001b[0;31m         \u001b[0;32mif\u001b[0m \u001b[0mser\u001b[0m\u001b[0;34m.\u001b[0m\u001b[0minWaiting\u001b[0m\u001b[0;34m(\u001b[0m\u001b[0;34m)\u001b[0m\u001b[0;34m:\u001b[0m\u001b[0;34m\u001b[0m\u001b[0m\n\u001b[0m\u001b[1;32m     22\u001b[0m             \u001b[0mbytesToRead\u001b[0m \u001b[0;34m=\u001b[0m \u001b[0mser\u001b[0m\u001b[0;34m.\u001b[0m\u001b[0minWaiting\u001b[0m\u001b[0;34m(\u001b[0m\u001b[0;34m)\u001b[0m\u001b[0;34m\u001b[0m\u001b[0m\n\u001b[1;32m     23\u001b[0m             \u001b[0mvalueCount\u001b[0m \u001b[0;34m+=\u001b[0m \u001b[0;36m1\u001b[0m\u001b[0;34m\u001b[0m\u001b[0m\n",
      "\u001b[0;32m/usr/lib/python2.7/dist-packages/serial/serialposix.pyc\u001b[0m in \u001b[0;36minWaiting\u001b[0;34m(self)\u001b[0m\n\u001b[1;32m    433\u001b[0m         \u001b[0;34m\"\"\"Return the number of characters currently in the input buffer.\"\"\"\u001b[0m\u001b[0;34m\u001b[0m\u001b[0m\n\u001b[1;32m    434\u001b[0m         \u001b[0;31m#~ s = fcntl.ioctl(self.fd, TERMIOS.FIONREAD, TIOCM_zero_str)\u001b[0m\u001b[0;34m\u001b[0m\u001b[0;34m\u001b[0m\u001b[0m\n\u001b[0;32m--> 435\u001b[0;31m         \u001b[0ms\u001b[0m \u001b[0;34m=\u001b[0m \u001b[0mfcntl\u001b[0m\u001b[0;34m.\u001b[0m\u001b[0mioctl\u001b[0m\u001b[0;34m(\u001b[0m\u001b[0mself\u001b[0m\u001b[0;34m.\u001b[0m\u001b[0mfd\u001b[0m\u001b[0;34m,\u001b[0m \u001b[0mTIOCINQ\u001b[0m\u001b[0;34m,\u001b[0m \u001b[0mTIOCM_zero_str\u001b[0m\u001b[0;34m)\u001b[0m\u001b[0;34m\u001b[0m\u001b[0m\n\u001b[0m\u001b[1;32m    436\u001b[0m         \u001b[0;32mreturn\u001b[0m \u001b[0mstruct\u001b[0m\u001b[0;34m.\u001b[0m\u001b[0munpack\u001b[0m\u001b[0;34m(\u001b[0m\u001b[0;34m'I'\u001b[0m\u001b[0;34m,\u001b[0m\u001b[0ms\u001b[0m\u001b[0;34m)\u001b[0m\u001b[0;34m[\u001b[0m\u001b[0;36m0\u001b[0m\u001b[0;34m]\u001b[0m\u001b[0;34m\u001b[0m\u001b[0m\n\u001b[1;32m    437\u001b[0m \u001b[0;34m\u001b[0m\u001b[0m\n",
      "\u001b[0;31mIOError\u001b[0m: [Errno 25] Inappropriate ioctl for device"
     ]
    }
   ],
   "source": [
    "#!/usr/bin/python3\n",
    "# Filename: maxSonarTTY.py\n",
    "\n",
    "# Reads serial data from Maxbotix ultrasonic rangefinders\n",
    "# Gracefully handles most common serial data glitches\n",
    "# Use as an importable module with \"import MaxSonarTTY\"\n",
    "# Returns an integer value representing distance to target in millimeters\n",
    "\n",
    "from time import time\n",
    "from serial import Serial\n",
    "\n",
    "serialDevice = \"/dev/ttyAMA0\" # default for RaspberryPi\n",
    "maxwait = 3 # seconds to try for a good reading before quitting\n",
    "\n",
    "def measure(portName):\n",
    "    ser = Serial(portName, 9600, 8, 'N', 1, timeout=1)\n",
    "    timeStart = time()\n",
    "    valueCount = 0\n",
    "\n",
    "    while time() < timeStart + maxwait:\n",
    "        if ser.inWaiting():\n",
    "            bytesToRead = ser.inWaiting()\n",
    "            valueCount += 1\n",
    "            if valueCount < 2: # 1st reading may be partial number; throw it out\n",
    "                continue\n",
    "            testData = ser.read(bytesToRead)\n",
    "            if not testData.startswith(b'R'):\n",
    "                # data received did not start with R\n",
    "                continue\n",
    "            try:\n",
    "                sensorData = testData.decode('utf-8').lstrip('R')\n",
    "            except UnicodeDecodeError:\n",
    "                # data received could not be decoded properly\n",
    "                continue\n",
    "            try:\n",
    "                mm = int(sensorData)\n",
    "            except ValueError:\n",
    "                # value is not a number\n",
    "                continue\n",
    "            ser.close()\n",
    "            return(mm)\n",
    "\n",
    "    ser.close()\n",
    "    raise RuntimeError(\"Expected serial data not received\")\n",
    "\n",
    "if __name__ == '__main__':\n",
    "    measurement = measure(serialDevice)\n",
    "    print(\"distance =\",measurement)"
   ]
  },
  {
   "cell_type": "code",
   "execution_count": null,
   "metadata": {
    "collapsed": true
   },
   "outputs": [],
   "source": [
    "#!/usr/bin/python3\n",
    "# Filename: rangeFind.py\n",
    "\n",
    "# sample script to read range values from Maxbotix ultrasonic rangefinder\n",
    "\n",
    "from time import sleep\n",
    "import maxSonarTTY\n",
    "\n",
    "serialPort = \"/dev/ttyAMA0\"\n",
    "maxRange = 5000  # change for 5m vs 10m sensor\n",
    "sleepTime = 5\n",
    "minMM = 9999\n",
    "maxMM = 0\n",
    "\n",
    "while True:\n",
    "    mm = maxSonarTTY.measure(serialPort)\n",
    "    if mm >= maxRange:\n",
    "        print(\"no target\")\n",
    "        sleep(sleepTime)\n",
    "        continue\n",
    "    if mm < minMM:\n",
    "        minMM = mm\n",
    "    if mm > maxMM:\n",
    "        maxMM = mm\n",
    "\n",
    "    print(\"distance:\", mm, \"  min:\", minMM, \"max:\", maxMM)\n",
    "    sleep(sleepTime)"
   ]
  }
 ],
 "metadata": {
  "kernelspec": {
   "display_name": "Python 2",
   "language": "python",
   "name": "python2"
  },
  "language_info": {
   "codemirror_mode": {
    "name": "ipython",
    "version": 2
   },
   "file_extension": ".py",
   "mimetype": "text/x-python",
   "name": "python",
   "nbconvert_exporter": "python",
   "pygments_lexer": "ipython2",
   "version": "2.7.9"
  }
 },
 "nbformat": 4,
 "nbformat_minor": 2
}
