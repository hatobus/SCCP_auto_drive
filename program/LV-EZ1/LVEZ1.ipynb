{
 "cells": [
  {
   "cell_type": "markdown",
   "metadata": {},
   "source": [
    "# LV-EZ1\n",
    "\n",
    "測距モジュールです．\n",
    "\n",
    "http://www.maxbotix.com/Raspberry-Pi-with-Ultrasonic-Sensors-144/\n",
    "\n",
    "ここら辺を見れば何とかなる可能性が高い．\n",
    "\n",
    "ここがけっこう参考になった．\n",
    "\n",
    "https://www.raspberrypi.org/forums/viewtopic.php?t=36593&p=316692#"
   ]
  },
  {
   "cell_type": "code",
   "execution_count": 15,
   "metadata": {},
   "outputs": [
    {
     "name": "stdout",
     "output_type": "stream",
     "text": [
      "Ultrasonic Measurement\n",
      "  Distance : 192.1 cm\n",
      "  Distance : 192.1 cm\n",
      "Stop\n"
     ]
    }
   ],
   "source": [
    "import time\n",
    "import RPi.GPIO as GPIO\n",
    "\n",
    "# Use BCM GPIO references\n",
    "# instead of physical pin numbers\n",
    "GPIO.setmode(GPIO.BCM)\n",
    "\n",
    "# Define GPIO to use on Pi\n",
    "GPIO_TRIGECHO = 15\n",
    "\n",
    "print \"Ultrasonic Measurement\"\n",
    "\n",
    "# Set pins as output and input\n",
    "GPIO.setup(GPIO_TRIGECHO,GPIO.OUT)  # Initial state as output\n",
    "\n",
    "\n",
    "# Set trigger to False (Low)\n",
    "GPIO.output(GPIO_TRIGECHO, False)\n",
    "\n",
    "def measure():\n",
    "  # This function measures a distance\n",
    "  # Pulse the trigger/echo line to initiate a measurement\n",
    "    GPIO.output(GPIO_TRIGECHO, True)\n",
    "    time.sleep(0.00001)\n",
    "    GPIO.output(GPIO_TRIGECHO, False)\n",
    "  #ensure start time is set in case of very quick return\n",
    "    start = time.time()\n",
    "\n",
    "  # set line to input to check for start of echo response\n",
    "    GPIO.setup(GPIO_TRIGECHO, GPIO.IN)\n",
    "    while GPIO.input(GPIO_TRIGECHO)==0:\n",
    "        start = time.time()\n",
    "\n",
    "  # Wait for end of echo response\n",
    "    while GPIO.input(GPIO_TRIGECHO)==1:\n",
    "        stop = time.time()\n",
    "  \n",
    "    GPIO.setup(GPIO_TRIGECHO, GPIO.OUT)\n",
    "    GPIO.output(GPIO_TRIGECHO, False)\n",
    "\n",
    "    elapsed = stop-start\n",
    "    distance = (elapsed * 34300)/2.0\n",
    "    time.sleep(0.1)\n",
    "    return distance\n",
    "\n",
    "try:\n",
    "\n",
    "    while True:\n",
    "\n",
    "        distance = measure()\n",
    "        print \"  Distance : %.1f cm\" % distance\n",
    "        time.sleep(1)\n",
    "\n",
    "except KeyboardInterrupt:\n",
    "    print(\"Stop\")\n",
    "    GPIO.cleanup()"
   ]
  },
  {
   "cell_type": "code",
   "execution_count": null,
   "metadata": {
    "collapsed": true
   },
   "outputs": [],
   "source": []
  }
 ],
 "metadata": {
  "kernelspec": {
   "display_name": "Python 2",
   "language": "python",
   "name": "python2"
  },
  "language_info": {
   "codemirror_mode": {
    "name": "ipython",
    "version": 2
   },
   "file_extension": ".py",
   "mimetype": "text/x-python",
   "name": "python",
   "nbconvert_exporter": "python",
   "pygments_lexer": "ipython2",
   "version": "2.7.9"
  }
 },
 "nbformat": 4,
 "nbformat_minor": 2
}
