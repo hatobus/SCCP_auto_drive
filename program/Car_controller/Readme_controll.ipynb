{
 "cells": [
  {
   "cell_type": "markdown",
   "metadata": {},
   "source": [
    "# ipywidgetを使った処理"
   ]
  },
  {
   "cell_type": "markdown",
   "metadata": {},
   "source": [
    "今回，jupyter notebook上でGUIを用いてコントローラーを使用したが，実際に使用したのは．\n",
    "`ipywidgets`というパッケージである．"
   ]
  },
  {
   "cell_type": "markdown",
   "metadata": {},
   "source": [
    "## 実装\n",
    "ボタンを押すことで，実際に車を操縦することができる．\n",
    "ボタンだが，表示させるためには，ipywidgetsをインポートする必要がある．"
   ]
  },
  {
   "cell_type": "code",
   "execution_count": 1,
   "metadata": {
    "collapsed": true
   },
   "outputs": [],
   "source": [
    "from ipywidgets import *\n",
    "from IPython.display import display"
   ]
  },
  {
   "cell_type": "markdown",
   "metadata": {},
   "source": [
    "これで，ipywidgetsがインポートされ，実際にボタンなどを配置することができる．\n",
    "\n",
    "実際にスライダなどを追加してみる．\n",
    "\n",
    "値がint(整数型)のスライダを作るだけならば．"
   ]
  },
  {
   "cell_type": "code",
   "execution_count": 2,
   "metadata": {},
   "outputs": [
    {
     "data": {
      "application/vnd.jupyter.widget-view+json": {
       "model_id": "2dccd28169a448ed84746bda009fe04b"
      }
     },
     "metadata": {},
     "output_type": "display_data"
    }
   ],
   "source": [
    "IntSlider()"
   ]
  },
  {
   "cell_type": "markdown",
   "metadata": {},
   "source": [
    "これだけでスライダーを生成できる．"
   ]
  },
  {
   "cell_type": "markdown",
   "metadata": {},
   "source": [
    "ただスライダーを表示させるだけならば，これだけよいが．\n",
    "\n",
    "しかし実際は，スライダーから取得した値を使用し，関数などで処理をしたい．\n",
    "\n",
    "そのような場合は以下のようにすると数値を取得できる．"
   ]
  },
  {
   "cell_type": "code",
   "execution_count": 3,
   "metadata": {},
   "outputs": [
    {
     "data": {
      "application/vnd.jupyter.widget-view+json": {
       "model_id": "084d40de1daf4fe5aabc63dc9c19b91b"
      }
     },
     "metadata": {},
     "output_type": "display_data"
    }
   ],
   "source": [
    "w = IntSlider()\n",
    "display(w)"
   ]
  },
  {
   "cell_type": "code",
   "execution_count": 4,
   "metadata": {},
   "outputs": [
    {
     "data": {
      "text/plain": [
       "12"
      ]
     },
     "execution_count": 4,
     "metadata": {},
     "output_type": "execute_result"
    }
   ],
   "source": [
    "w.value"
   ]
  },
  {
   "cell_type": "markdown",
   "metadata": {},
   "source": [
    "ここで注意したいのは，一緒に`w.value`を書いてしまうと，スライダの値を変えても，`w.value`で出力される値が変化しないこと．\n",
    "\n",
    "そこで用いるのが，ボタンである．"
   ]
  },
  {
   "cell_type": "code",
   "execution_count": 6,
   "metadata": {},
   "outputs": [
    {
     "data": {
      "application/vnd.jupyter.widget-view+json": {
       "model_id": "a63f9ab3216f4951af15c219b656cf35"
      }
     },
     "metadata": {},
     "output_type": "display_data"
    },
    {
     "data": {
      "text/plain": [
       "0"
      ]
     },
     "execution_count": 6,
     "metadata": {},
     "output_type": "execute_result"
    }
   ],
   "source": [
    "w = IntSlider()\n",
    "display(w)\n",
    "\n",
    "w.value\n",
    "\n",
    "#一緒に書いてしまうと，スライダーと値を共有できない"
   ]
  },
  {
   "cell_type": "markdown",
   "metadata": {},
   "source": [
    "## ボタンの実装"
   ]
  },
  {
   "cell_type": "markdown",
   "metadata": {},
   "source": [
    "ボタンを使用することで，スライダで選択した値を関数などに持って行くことができる．\n",
    "\n",
    "ボタンを使用する時にインポートするのは，上に書いたもので構わない．"
   ]
  },
  {
   "cell_type": "markdown",
   "metadata": {},
   "source": [
    "### ボタンを配置"
   ]
  },
  {
   "cell_type": "code",
   "execution_count": 11,
   "metadata": {},
   "outputs": [
    {
     "data": {
      "application/vnd.jupyter.widget-view+json": {
       "model_id": "6cad9430f5824416b25d47abcdc93a07"
      }
     },
     "metadata": {},
     "output_type": "display_data"
    }
   ],
   "source": [
    "button = widgets.Button(description=\"This is a Button\")\n",
    "display(button)"
   ]
  },
  {
   "cell_type": "markdown",
   "metadata": {},
   "source": [
    "これでマウスクリックで実際に押すことのできるボタンを作成できる．"
   ]
  },
  {
   "cell_type": "code",
   "execution_count": 16,
   "metadata": {},
   "outputs": [
    {
     "name": "stdout",
     "output_type": "stream",
     "text": [
      "Last update\n",
      "2017/05/31 17:06:47\n"
     ]
    }
   ],
   "source": [
    "import datetime\n",
    "today        =    datetime.date.today()\n",
    "todaydetail  =    datetime.datetime.today()\n",
    "\n",
    "print(\"Last update\")\n",
    "print todaydetail.strftime(\"%Y/%m/%d %H:%M:%S\")"
   ]
  },
  {
   "cell_type": "code",
   "execution_count": null,
   "metadata": {
    "collapsed": true
   },
   "outputs": [],
   "source": []
  }
 ],
 "metadata": {
  "kernelspec": {
   "display_name": "Python 2",
   "language": "python",
   "name": "python2"
  },
  "language_info": {
   "codemirror_mode": {
    "name": "ipython",
    "version": 2
   },
   "file_extension": ".py",
   "mimetype": "text/x-python",
   "name": "python",
   "nbconvert_exporter": "python",
   "pygments_lexer": "ipython2",
   "version": "2.7.9"
  }
 },
 "nbformat": 4,
 "nbformat_minor": 2
}
