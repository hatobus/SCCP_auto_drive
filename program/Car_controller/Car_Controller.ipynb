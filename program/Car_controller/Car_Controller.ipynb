{
 "cells": [
  {
   "cell_type": "code",
   "execution_count": 1,
   "metadata": {},
   "outputs": [
    {
     "data": {
      "application/vnd.jupyter.widget-view+json": {
       "model_id": "6e187ec61f094d48869b5331300cfa62"
      }
     },
     "metadata": {},
     "output_type": "display_data"
    },
    {
     "data": {
      "application/vnd.jupyter.widget-view+json": {
       "model_id": "df78f44099284469adb99b033114840e"
      }
     },
     "metadata": {},
     "output_type": "display_data"
    },
    {
     "data": {
      "application/vnd.jupyter.widget-view+json": {
       "model_id": "af371b277e92465ebec7fe00acbcf46e"
      }
     },
     "metadata": {},
     "output_type": "display_data"
    },
    {
     "data": {
      "application/vnd.jupyter.widget-view+json": {
       "model_id": "ffb489671d1c410da2bef9ec59a00336"
      }
     },
     "metadata": {},
     "output_type": "display_data"
    },
    {
     "data": {
      "application/vnd.jupyter.widget-view+json": {
       "model_id": "703c4f603d2b4ea7b07e374ec61538dc"
      }
     },
     "metadata": {},
     "output_type": "display_data"
    },
    {
     "data": {
      "application/vnd.jupyter.widget-view+json": {
       "model_id": "cbf11a6bfa3347f28f191c2c8192bb6a"
      }
     },
     "metadata": {},
     "output_type": "display_data"
    },
    {
     "data": {
      "application/vnd.jupyter.widget-view+json": {
       "model_id": "3f5a70935e9e4189a22efd83ebad3494"
      }
     },
     "metadata": {},
     "output_type": "display_data"
    },
    {
     "data": {
      "application/vnd.jupyter.widget-view+json": {
       "model_id": "ea22630bcfbd484d8341633d7414bda9"
      }
     },
     "metadata": {},
     "output_type": "display_data"
    },
    {
     "data": {
      "application/vnd.jupyter.widget-view+json": {
       "model_id": "74a5941ce0c0446fb81cfce67f531c4b"
      }
     },
     "metadata": {},
     "output_type": "display_data"
    }
   ],
   "source": [
    "#!/usr/bin/env python\n",
    "# -*- coding: utf-8 -*-\n",
    "\n",
    "import smbus\n",
    "import time\n",
    "import sys\n",
    "import autodrive\n",
    "reload(autodrive)\n",
    "\n",
    "bus = smbus.SMBus(1)\n",
    "\n",
    "D = autodrive.Car()\n",
    "\n",
    "from ipywidgets import *\n",
    "from IPython.display import display\n",
    "button1 = widgets.Button(description=\"Go ahead!\")\n",
    "button2 = widgets.Button(description=\"Back!\")\n",
    "button3 = widgets.Button(description=\"Stop!!\")\n",
    "button4 = widgets.Button(description=\"Left Trun\")\n",
    "button5 = widgets.Button(description=\"Right Trun\")\n",
    "button6 = widgets.Button(description=\"Turn Left\")\n",
    "button7 = widgets.Button(description=\"Turn Right\")\n",
    "\n",
    "display(button1)\n",
    "display(button2)\n",
    "display(button3)\n",
    "display(button4)\n",
    "display(button5)\n",
    "display(button6)\n",
    "display(button7)\n",
    "\n",
    "def go_ahead(b):\n",
    "    D.forward(speed.value)\n",
    "    \n",
    "def back(b):\n",
    "    D.back(speed.value)\n",
    "    \n",
    "def stop(b):\n",
    "    D.brake()\n",
    "    \n",
    "def l_turn(b):\n",
    "    D.left(speed.value,10)\n",
    "    \n",
    "def r_turn(b):\n",
    "    D.right(speed.value,10)\n",
    "    \n",
    "def Turn_L(b):\n",
    "    D.left(speed.value,handle.value)\n",
    "    \n",
    "def Turn_R(b):\n",
    "    D.right(speed.value,handle.value)\n",
    "\n",
    "speed = IntSlider(description='Speed')\n",
    "display(speed)\n",
    "handle = IntSlider(min=-10, max=10, value=0,description='Handle_pitch')\n",
    "display(handle)\n",
    "# val = speed.value\n",
    "button1.on_click(go_ahead)\n",
    "button2.on_click(back)\n",
    "button3.on_click(stop)\n",
    "button4.on_click(l_turn)\n",
    "button5.on_click(r_turn)\n",
    "button6.on_click(Turn_L)\n",
    "button7.on_click(Turn_R)"
   ]
  },
  {
   "cell_type": "code",
   "execution_count": null,
   "metadata": {
    "collapsed": true
   },
   "outputs": [],
   "source": []
  }
 ],
 "metadata": {
  "kernelspec": {
   "display_name": "Python 2",
   "language": "python",
   "name": "python2"
  },
  "language_info": {
   "codemirror_mode": {
    "name": "ipython",
    "version": 2
   },
   "file_extension": ".py",
   "mimetype": "text/x-python",
   "name": "python",
   "nbconvert_exporter": "python",
   "pygments_lexer": "ipython2",
   "version": "2.7.9"
  }
 },
 "nbformat": 4,
 "nbformat_minor": 2
}
