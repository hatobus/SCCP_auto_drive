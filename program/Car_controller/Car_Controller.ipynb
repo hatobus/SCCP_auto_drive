{
 "cells": [
  {
   "cell_type": "code",
   "execution_count": 15,
   "metadata": {},
   "outputs": [
    {
     "data": {
      "application/vnd.jupyter.widget-view+json": {
       "model_id": "e6849da53ea54f138db16ad50ac042ed"
      }
     },
     "metadata": {},
     "output_type": "display_data"
    },
    {
     "data": {
      "application/vnd.jupyter.widget-view+json": {
       "model_id": "d7352bb486df4523912b41bea88c33b0"
      }
     },
     "metadata": {},
     "output_type": "display_data"
    },
    {
     "data": {
      "application/vnd.jupyter.widget-view+json": {
       "model_id": "f9cb1584685145f289375040af97c45a"
      }
     },
     "metadata": {},
     "output_type": "display_data"
    },
    {
     "data": {
      "application/vnd.jupyter.widget-view+json": {
       "model_id": "d02eaa728185423e81ee8f6c661b91cc"
      }
     },
     "metadata": {},
     "output_type": "display_data"
    },
    {
     "data": {
      "application/vnd.jupyter.widget-view+json": {
       "model_id": "7fa6b9e260814e40931e686da76b5804"
      }
     },
     "metadata": {},
     "output_type": "display_data"
    },
    {
     "data": {
      "application/vnd.jupyter.widget-view+json": {
       "model_id": "9cabcc9062534c48ba7a642d430b0c9f"
      }
     },
     "metadata": {},
     "output_type": "display_data"
    },
    {
     "data": {
      "application/vnd.jupyter.widget-view+json": {
       "model_id": "d6949b61977f4ecd89c31604a41d3262"
      }
     },
     "metadata": {},
     "output_type": "display_data"
    }
   ],
   "source": [
    "#!/usr/bin/env python\n",
    "# -*- coding: utf-8 -*-\n",
    "\n",
    "import smbus\n",
    "import time\n",
    "import sys\n",
    "import autodrive\n",
    "reload(autodrive)\n",
    "\n",
    "bus = smbus.SMBus(1)\n",
    "\n",
    "D = autodrive.Car()\n",
    "\n",
    "from ipywidgets import *\n",
    "from IPython.display import display\n",
    "\n",
    "button1 = widgets.Button(description=\"Go ahead!\")\n",
    "button2 = widgets.Button(description=\"Back!\")\n",
    "button3 = widgets.Button(description=\"Stop!!\")\n",
    "button4 = widgets.Button(description=\"Left Trun\")\n",
    "button5 = widgets.Button(description=\"Right Trun\")\n",
    "# button6 = widgets.Button(description=\"Turn Left\")\n",
    "# button7 = widgets.Button(description=\"Turn Right\")\n",
    "\n",
    "display(button1)\n",
    "display(button2)\n",
    "display(button3)\n",
    "display(button4)\n",
    "display(button5)\n",
    "\n",
    "def go_ahead(b):\n",
    "    if handle.value == 0:\n",
    "        D.forward(speed.value)\n",
    "    \n",
    "    elif handle.value > 0:\n",
    "        D.right(speed.value,handle.value)\n",
    "        \n",
    "    elif handle.value < 0:\n",
    "        D.left(speed.value,-1 * handle.value)\n",
    "    \n",
    "def back(b):\n",
    "    D.back(speed.value)\n",
    "    \n",
    "def stop(b):\n",
    "    D.brake()\n",
    "    \n",
    "def l_turn(b):\n",
    "    D.R_forward(speed.value)\n",
    "    D.L_back(speed.value)\n",
    "    \n",
    "def r_turn(b):\n",
    "    D.L_forward(speed.value)\n",
    "    D.R_back(speed.value)\n",
    "\n",
    "speed = IntSlider(description='Speed')\n",
    "display(speed)\n",
    "handle = IntSlider(min=-10, max=10, value=0,description='Handle_pitch')\n",
    "display(handle)\n",
    "button1.on_click(go_ahead)\n",
    "button2.on_click(back)\n",
    "button3.on_click(stop)\n",
    "button4.on_click(l_turn)\n",
    "button5.on_click(r_turn)"
   ]
  },
  {
   "cell_type": "code",
   "execution_count": 10,
   "metadata": {
    "collapsed": true
   },
   "outputs": [],
   "source": [
    "# Kill Switch\n",
    "D.stop()"
   ]
  }
 ],
 "metadata": {
  "kernelspec": {
   "display_name": "Python 2",
   "language": "python",
   "name": "python2"
  },
  "language_info": {
   "codemirror_mode": {
    "name": "ipython",
    "version": 2
   },
   "file_extension": ".py",
   "mimetype": "text/x-python",
   "name": "python",
   "nbconvert_exporter": "python",
   "pygments_lexer": "ipython2",
   "version": "2.7.9"
  }
 },
 "nbformat": 4,
 "nbformat_minor": 2
}
