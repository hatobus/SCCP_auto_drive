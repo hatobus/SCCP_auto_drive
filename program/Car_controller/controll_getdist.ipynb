{
 "cells": [
  {
   "cell_type": "markdown",
   "metadata": {
    "collapsed": true
   },
   "source": [
    "# threadingでコントロールしながら距離を取得"
   ]
  },
  {
   "cell_type": "code",
   "execution_count": 1,
   "metadata": {},
   "outputs": [
    {
     "name": "stderr",
     "output_type": "stream",
     "text": [
      "\n",
      "Bad key \"+ backend\" on line 39 in\n",
      "/etc/matplotlibrc.\n",
      "You probably need to get an updated matplotlibrc file from\n",
      "http://matplotlib.sf.net/_static/matplotlibrc or from the matplotlib source\n",
      "distribution\n",
      "\n",
      "Bad key \"- backend\" on line 38 in\n",
      "/etc/matplotlibrc.\n",
      "You probably need to get an updated matplotlibrc file from\n",
      "http://matplotlib.sf.net/_static/matplotlibrc or from the matplotlib source\n",
      "distribution\n"
     ]
    }
   ],
   "source": [
    "# -*- coding: utf-8 -*-\n",
    "from ipywidgets import *\n",
    "from IPython.display import display\n",
    "import threading\n",
    "import time\n",
    "import smbus\n",
    "import sys\n",
    "import autodrive\n",
    "reload(autodrive)\n",
    "import LVEZ1\n",
    "reload(LVEZ1)\n",
    "import csv\n",
    "import RPi.GPIO as GPIO\n",
    "import pandas as pd\n",
    "\n",
    "LV = LVEZ1.Dist()\n",
    "bus = smbus.SMBus(1)\n",
    "D = autodrive.Car()\n",
    "\n",
    "def ard_map(self, x, in_min, in_max, out_min, out_max):\n",
    "        return (x - in_min) * (out_max - out_min) // (in_max - in_min) + out_min"
   ]
  },
  {
   "cell_type": "code",
   "execution_count": 2,
   "metadata": {},
   "outputs": [
    {
     "name": "stderr",
     "output_type": "stream",
     "text": [
      "LVEZ1.py:16: RuntimeWarning: This channel is already in use, continuing anyway.  Use GPIO.setwarnings(False) to disable warnings.\n",
      "  GPIO.setup(GPIO_TRIGECHO,GPIO.OUT)\n"
     ]
    },
    {
     "data": {
      "application/vnd.jupyter.widget-view+json": {
       "model_id": "41fa80e60f524acc9131222a14a66aa4"
      }
     },
     "metadata": {},
     "output_type": "display_data"
    },
    {
     "data": {
      "application/vnd.jupyter.widget-view+json": {
       "model_id": "c53353223c5a4531988defdc363d4f04"
      }
     },
     "metadata": {},
     "output_type": "display_data"
    },
    {
     "data": {
      "application/vnd.jupyter.widget-view+json": {
       "model_id": "68249380c1d24e219cc610ea16449115"
      }
     },
     "metadata": {},
     "output_type": "display_data"
    },
    {
     "data": {
      "application/vnd.jupyter.widget-view+json": {
       "model_id": "68f182deea32431fa6fa850c5be514b2"
      }
     },
     "metadata": {},
     "output_type": "display_data"
    },
    {
     "data": {
      "application/vnd.jupyter.widget-view+json": {
       "model_id": "cdc50da2b0764ed2abd4c2282b44e7ec"
      }
     },
     "metadata": {},
     "output_type": "display_data"
    },
    {
     "data": {
      "application/vnd.jupyter.widget-view+json": {
       "model_id": "24f652407074496b8160549f533d7856"
      }
     },
     "metadata": {},
     "output_type": "display_data"
    },
    {
     "data": {
      "application/vnd.jupyter.widget-view+json": {
       "model_id": "b746415223604b38b41a879917f31a59"
      }
     },
     "metadata": {},
     "output_type": "display_data"
    },
    {
     "name": "stdout",
     "output_type": "stream",
     "text": [
      " front : 39 , frontR : 26 , Left : 60 , BackR : 23 , Back: 49"
     ]
    }
   ],
   "source": [
    "# dlist1 = []\n",
    "# f = open('distdata.csv', 'w')\n",
    "# csvWriter = csv.writer(f)\n",
    "\n",
    "dlist_front = []\n",
    "dlist_frontL = []\n",
    "dlist_frontR = []\n",
    "dlist_behindR = []\n",
    "dlist_back = []\n",
    "Lmotor=[]\n",
    "Rmotor=[]\n",
    "\n",
    "class getdist(threading.Thread):\n",
    " \n",
    "    def __init__(self):\n",
    "         threading.Thread.__init__(self)\n",
    "\n",
    "    def run(self):\n",
    "        while True:\n",
    "            f,fr,l,br,ba = LV.Measure(20),LV.Measure(21),LV.Measure(19),LV.Measure(26),LV.Measure(6)\n",
    "#             print 'front : %d , frontR : %d , Left : %d , BackR : %d , Back: %d' % (f,fr,l,br,ba)\n",
    "            sys.stdout.write('\\r front : %d , frontR : %d , Left : %d , BackR : %d , Back: %d' % (f,fr,l,br,ba))\n",
    "            sys.stdout.flush()\n",
    "            if f  < 30:\n",
    "                D.brake()\n",
    "            dlist_front.append(f)\n",
    "            time.sleep(0.01)\n",
    "            dlist_frontR.append(fr)\n",
    "            time.sleep(0.01)\n",
    "            dlist_frontL.append(l)\n",
    "            time.sleep(0.01)\n",
    "            dlist_behindR.append(br)\n",
    "            time.sleep(0.01)\n",
    "            dlist_back.append(ba)\n",
    "            \n",
    "            time.sleep(0.3)\n",
    "            \n",
    " \n",
    "th = getdist()\n",
    "th.setDaemon(True)\n",
    "th.start()\n",
    "\n",
    "try:\n",
    "    button1 = widgets.Button(description=\"Go ahead!\")\n",
    "    button2 = widgets.Button(description=\"Back!\")\n",
    "    button3 = widgets.Button(description=\"Stop!!\")\n",
    "    button4 = widgets.Button(description=\"Left Trun\")\n",
    "    button5 = widgets.Button(description=\"Right Trun\")\n",
    "\n",
    "    display(button1)\n",
    "    display(button2)\n",
    "    display(button3)\n",
    "    display(button4)\n",
    "    display(button5)\n",
    "\n",
    "    def go_ahead(b):\n",
    "        if handle.value == 0:\n",
    "            D.forward(speed.value)\n",
    "#             Lmotor.append(speed.value)\n",
    "#             Rmotor.append(speed.value)\n",
    "\n",
    "        elif handle.value > 0:\n",
    "            D.right(speed.value,handle.value)\n",
    "#             Lmotor.append(speed.value)\n",
    "#             Rmotor.append(speed.value)\n",
    "\n",
    "        elif handle.value < 0:\n",
    "            D.left(speed.value,-1 * handle.value)\n",
    "\n",
    "    def back(b):\n",
    "        D.back(speed.value)\n",
    "\n",
    "    def stop(b):\n",
    "        D.brake()\n",
    "\n",
    "    def l_turn(b):\n",
    "        D.R_forward(speed.value)\n",
    "        D.L_back(speed.value)\n",
    "\n",
    "    def r_turn(b):\n",
    "        D.L_forward(speed.value)\n",
    "        D.R_back(speed.value)\n",
    "\n",
    "    speed = IntSlider(description='Speed')\n",
    "    display(speed)\n",
    "    handle = IntSlider(min=-10, max=10, value=0,description='Handle_pitch')\n",
    "    display(handle)\n",
    "    button1.on_click(go_ahead)\n",
    "    button2.on_click(back)\n",
    "    button3.on_click(stop)\n",
    "    button4.on_click(l_turn)\n",
    "    button5.on_click(r_turn)\n",
    "\n",
    "except KeyboardInterrupt:\n",
    "#     print(dlist_front)\n",
    "    th.stop()\n",
    "#     csvWriter.writerow(dlist_front) \n",
    "#     writer = csv.writer(f, lineterminator='\\n')\n",
    "    GPIO.cleanup()\n",
    "#     f.close()"
   ]
  },
  {
   "cell_type": "code",
   "execution_count": 3,
   "metadata": {},
   "outputs": [
    {
     "name": "stdout",
     "output_type": "stream",
     "text": [
      "\r",
      " front : 42 , frontR : 26 , Left : 51 , BackR : 20 , Back: 49"
     ]
    }
   ],
   "source": [
    "direction_list = [dlist_front, dlist_frontL, dlist_frontR, dlist_behindR, dlist_back]"
   ]
  },
  {
   "cell_type": "code",
   "execution_count": 4,
   "metadata": {},
   "outputs": [
    {
     "name": "stdout",
     "output_type": "stream",
     "text": [
      " front : 42 , frontR : 26 , Left : 51 , BackR : 20 , Back: 49"
     ]
    }
   ],
   "source": [
    "df_list = [pd.DataFrame(frame) for frame in direction_list]"
   ]
  },
  {
   "cell_type": "code",
   "execution_count": 5,
   "metadata": {},
   "outputs": [
    {
     "data": {
      "text/plain": [
       "pandas.core.frame.DataFrame"
      ]
     },
     "execution_count": 5,
     "metadata": {},
     "output_type": "execute_result"
    },
    {
     "name": "stdout",
     "output_type": "stream",
     "text": [
      " front : 39 , frontR : 26 , Left : 51 , BackR : 23 , Back: 49"
     ]
    }
   ],
   "source": [
    "type(df_list[0])"
   ]
  },
  {
   "cell_type": "code",
   "execution_count": 6,
   "metadata": {},
   "outputs": [
    {
     "name": "stdout",
     "output_type": "stream",
     "text": [
      " front : 42 , frontR : 26 , Left : 51 , BackR : 20 , Back: 50"
     ]
    }
   ],
   "source": [
    "df = df_list[0]\n",
    "del df_list[0]\n",
    "for data in df_list:\n",
    "    df = pd.concat([df, data],axis = 1)\n",
    "    \n",
    "df.columns = ['dlist_front', 'dlist_frontL', 'dlist_frontR', 'dlist_behindR', 'dlist_back']"
   ]
  },
  {
   "cell_type": "code",
   "execution_count": 10,
   "metadata": {},
   "outputs": [
    {
     "name": "stdout",
     "output_type": "stream",
     "text": [
      " front : 49 , frontR : 26 , Left : 51 , BackR : 20 , Back: 16"
     ]
    }
   ],
   "source": [
    "df.to_csv(\"dataset/distdata.csv\")"
   ]
  },
  {
   "cell_type": "code",
   "execution_count": null,
   "metadata": {
    "collapsed": true
   },
   "outputs": [],
   "source": []
  }
 ],
 "metadata": {
  "kernelspec": {
   "display_name": "Python 2",
   "language": "python",
   "name": "python2"
  },
  "language_info": {
   "codemirror_mode": {
    "name": "ipython",
    "version": 2
   },
   "file_extension": ".py",
   "mimetype": "text/x-python",
   "name": "python",
   "nbconvert_exporter": "python",
   "pygments_lexer": "ipython2",
   "version": "2.7.9"
  }
 },
 "nbformat": 4,
 "nbformat_minor": 2
}
