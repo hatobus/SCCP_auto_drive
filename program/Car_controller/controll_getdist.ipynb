{
 "cells": [
  {
   "cell_type": "code",
   "execution_count": 3,
   "metadata": {},
   "outputs": [],
   "source": [
    "# -*- coding: utf-8 -*-\n",
    "from ipywidgets import *\n",
    "from IPython.display import display\n",
    "import threading\n",
    "import time\n",
    "import smbus\n",
    "import sys\n",
    "import autodrive\n",
    "reload(autodrive)\n",
    "import LVEZ1\n",
    "reload(LVEZ1)\n",
    "import csv\n",
    "import RPi.GPIO as GPIO\n",
    "\n",
    "LV = LVEZ1.Dist()\n",
    "bus = smbus.SMBus(1)\n",
    "D = autodrive.Car()"
   ]
  },
  {
   "cell_type": "code",
   "execution_count": 4,
   "metadata": {},
   "outputs": [
    {
     "data": {
      "application/vnd.jupyter.widget-view+json": {
       "model_id": "fd07de3d5ca54e289036c86d41e2a525"
      }
     },
     "metadata": {},
     "output_type": "display_data"
    },
    {
     "data": {
      "application/vnd.jupyter.widget-view+json": {
       "model_id": "718688a4a4654ec7b01e88cd378f4a2f"
      }
     },
     "metadata": {},
     "output_type": "display_data"
    },
    {
     "data": {
      "application/vnd.jupyter.widget-view+json": {
       "model_id": "989d60ab33684464a2c48f3e0a7a9c3d"
      }
     },
     "metadata": {},
     "output_type": "display_data"
    },
    {
     "data": {
      "application/vnd.jupyter.widget-view+json": {
       "model_id": "b0d2c10fdd6545e68776002dd101a73f"
      }
     },
     "metadata": {},
     "output_type": "display_data"
    },
    {
     "data": {
      "application/vnd.jupyter.widget-view+json": {
       "model_id": "5c153ce5ab0e414db1174fb8bfb34670"
      }
     },
     "metadata": {},
     "output_type": "display_data"
    },
    {
     "data": {
      "application/vnd.jupyter.widget-view+json": {
       "model_id": "b5cc323fac3949169f310658c05d240e"
      }
     },
     "metadata": {},
     "output_type": "display_data"
    },
    {
     "data": {
      "application/vnd.jupyter.widget-view+json": {
       "model_id": "5d07fb72421c42a1b631b7ab6bbc39f4"
      }
     },
     "metadata": {},
     "output_type": "display_data"
    },
    {
     "ename": "IOError",
     "evalue": "[Errno 121] Remote I/O error",
     "output_type": "error",
     "traceback": [
      "\u001b[0;31m\u001b[0m",
      "\u001b[0;31mIOError\u001b[0mTraceback (most recent call last)",
      "\u001b[0;32m<ipython-input-4-17df3080ca5e>\u001b[0m in \u001b[0;36mstop\u001b[0;34m(b)\u001b[0m\n\u001b[1;32m     44\u001b[0m \u001b[0;34m\u001b[0m\u001b[0m\n\u001b[1;32m     45\u001b[0m     \u001b[0;32mdef\u001b[0m \u001b[0mstop\u001b[0m\u001b[0;34m(\u001b[0m\u001b[0mb\u001b[0m\u001b[0;34m)\u001b[0m\u001b[0;34m:\u001b[0m\u001b[0;34m\u001b[0m\u001b[0m\n\u001b[0;32m---> 46\u001b[0;31m         \u001b[0mD\u001b[0m\u001b[0;34m.\u001b[0m\u001b[0mbrake\u001b[0m\u001b[0;34m(\u001b[0m\u001b[0;34m)\u001b[0m\u001b[0;34m\u001b[0m\u001b[0m\n\u001b[0m\u001b[1;32m     47\u001b[0m \u001b[0;34m\u001b[0m\u001b[0m\n\u001b[1;32m     48\u001b[0m     \u001b[0;32mdef\u001b[0m \u001b[0ml_turn\u001b[0m\u001b[0;34m(\u001b[0m\u001b[0mb\u001b[0m\u001b[0;34m)\u001b[0m\u001b[0;34m:\u001b[0m\u001b[0;34m\u001b[0m\u001b[0m\n",
      "\u001b[0;32m/home/pi/Documents/auto_drive/autodrive.pyc\u001b[0m in \u001b[0;36mbrake\u001b[0;34m(self)\u001b[0m\n\u001b[1;32m    129\u001b[0m     \u001b[0;32mdef\u001b[0m \u001b[0mbrake\u001b[0m\u001b[0;34m(\u001b[0m\u001b[0mself\u001b[0m\u001b[0;34m)\u001b[0m\u001b[0;34m:\u001b[0m\u001b[0;34m\u001b[0m\u001b[0m\n\u001b[1;32m    130\u001b[0m         \u001b[0mbus\u001b[0m\u001b[0;34m.\u001b[0m\u001b[0mwrite_i2c_block_data\u001b[0m\u001b[0;34m(\u001b[0m\u001b[0mLeft_ADDRESS\u001b[0m\u001b[0;34m,\u001b[0m\u001b[0mCONTROL\u001b[0m\u001b[0;34m,\u001b[0m\u001b[0;34m[\u001b[0m\u001b[0;36m0x03\u001b[0m\u001b[0;34m]\u001b[0m\u001b[0;34m)\u001b[0m \u001b[0;31m#モータをブレーキさせる\u001b[0m\u001b[0;34m\u001b[0m\u001b[0m\n\u001b[0;32m--> 131\u001b[0;31m         \u001b[0mbus\u001b[0m\u001b[0;34m.\u001b[0m\u001b[0mwrite_i2c_block_data\u001b[0m\u001b[0;34m(\u001b[0m\u001b[0mRight_ADDRESS\u001b[0m\u001b[0;34m,\u001b[0m\u001b[0mCONTROL\u001b[0m\u001b[0;34m,\u001b[0m\u001b[0;34m[\u001b[0m\u001b[0;36m0x03\u001b[0m\u001b[0;34m]\u001b[0m\u001b[0;34m)\u001b[0m\u001b[0;34m\u001b[0m\u001b[0m\n\u001b[0m\u001b[1;32m    132\u001b[0m \u001b[0;34m\u001b[0m\u001b[0m\n\u001b[1;32m    133\u001b[0m     \u001b[0;31m#左回転\u001b[0m\u001b[0;34m\u001b[0m\u001b[0;34m\u001b[0m\u001b[0m\n",
      "\u001b[0;31mIOError\u001b[0m: [Errno 121] Remote I/O error"
     ]
    }
   ],
   "source": [
    "dlist1 = []\n",
    "f = open('distdata.csv', 'w')\n",
    "csvWriter = csv.writer(f)\n",
    "\n",
    "class getdist(threading.Thread):\n",
    " \n",
    "    def __init__(self):\n",
    "         threading.Thread.__init__(self)\n",
    "\n",
    "    def run(self):\n",
    "        while True:\n",
    "            dlist1.append(LV.Measure(19))\n",
    "            time.sleep(1)\n",
    " \n",
    "th = getdist()\n",
    "th.setDaemon(True)\n",
    "th.start()\n",
    "\n",
    "try:\n",
    "    button1 = widgets.Button(description=\"Go ahead!\")\n",
    "    button2 = widgets.Button(description=\"Back!\")\n",
    "    button3 = widgets.Button(description=\"Stop!!\")\n",
    "    button4 = widgets.Button(description=\"Left Trun\")\n",
    "    button5 = widgets.Button(description=\"Right Trun\")\n",
    "\n",
    "    display(button1)\n",
    "    display(button2)\n",
    "    display(button3)\n",
    "    display(button4)\n",
    "    display(button5)\n",
    "\n",
    "    def go_ahead(b):\n",
    "        if handle.value == 0:\n",
    "            D.forward(speed.value)\n",
    "\n",
    "        elif handle.value > 0:\n",
    "            D.right(speed.value,handle.value)\n",
    "\n",
    "        elif handle.value < 0:\n",
    "            D.left(speed.value,-1 * handle.value)\n",
    "\n",
    "    def back(b):\n",
    "        D.back(speed.value)\n",
    "\n",
    "    def stop(b):\n",
    "        D.brake()\n",
    "\n",
    "    def l_turn(b):\n",
    "        D.R_forward(speed.value)\n",
    "        D.L_back(speed.value)\n",
    "\n",
    "    def r_turn(b):\n",
    "        D.L_forward(speed.value)\n",
    "        D.R_back(speed.value)\n",
    "\n",
    "    speed = IntSlider(description='Speed')\n",
    "    display(speed)\n",
    "    handle = IntSlider(min=-10, max=10, value=0,description='Handle_pitch')\n",
    "    display(handle)\n",
    "    button1.on_click(go_ahead)\n",
    "    button2.on_click(back)\n",
    "    button3.on_click(stop)\n",
    "    button4.on_click(l_turn)\n",
    "    button5.on_click(r_turn)\n",
    "\n",
    "except KeyboardInterrupt:\n",
    "    csvWriter.writerow(dlist1) \n",
    "    writer = csv.writer(f, lineterminator='\\n')\n",
    "    GPIO.cleanup()\n",
    "    f.close()"
   ]
  },
  {
   "cell_type": "code",
   "execution_count": null,
   "metadata": {
    "collapsed": true
   },
   "outputs": [],
   "source": []
  },
  {
   "cell_type": "code",
   "execution_count": null,
   "metadata": {
    "collapsed": true
   },
   "outputs": [],
   "source": []
  }
 ],
 "metadata": {
  "kernelspec": {
   "display_name": "Python 2",
   "language": "python",
   "name": "python2"
  },
  "language_info": {
   "codemirror_mode": {
    "name": "ipython",
    "version": 2
   },
   "file_extension": ".py",
   "mimetype": "text/x-python",
   "name": "python",
   "nbconvert_exporter": "python",
   "pygments_lexer": "ipython2",
   "version": "2.7.9"
  }
 },
 "nbformat": 4,
 "nbformat_minor": 2
}
