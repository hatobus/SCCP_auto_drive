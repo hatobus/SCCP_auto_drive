{
 "cells": [
  {
   "cell_type": "code",
   "execution_count": 2,
   "metadata": {},
   "outputs": [
    {
     "name": "stdout",
     "output_type": "stream",
     "text": [
      "Measured Distance = 2758.5 cm\n",
      "Measured Distance = 8.6 cm\n",
      "Measured Distance = 12.5 cm\n",
      "Measured Distance = 12.1 cm\n",
      "Measured Distance = 105.5 cm\n",
      "Measured Distance = 34.3 cm\n",
      "Measured Distance = 22.6 cm\n",
      "Measured Distance = 106.0 cm\n",
      "Measured Distance = 104.7 cm\n",
      "Measured Distance = 104.6 cm\n",
      "Measured Distance = 104.6 cm\n",
      "Measured Distance = 398.2 cm\n",
      "Measured Distance = 7.3 cm\n",
      "Measured Distance = 9.7 cm\n",
      "Measured Distance = 105.0 cm\n",
      "Measured Distance = 104.3 cm\n",
      "Measured Distance = 104.3 cm\n",
      "Measured Distance = 52.5 cm\n",
      "Measured Distance = 104.7 cm\n",
      "Measured Distance = 49.2 cm\n",
      "Measured Distance = 41.3 cm\n",
      "Measured Distance = 41.6 cm\n",
      "Measured Distance = 41.1 cm\n",
      "Measured Distance = 104.7 cm\n",
      "Measured Distance = 106.3 cm\n",
      "Measured Distance = 104.7 cm\n",
      "Measured Distance = 105.1 cm\n",
      "Measured Distance = 105.9 cm\n",
      "Measured Distance = 104.2 cm\n",
      "Measured Distance = 105.0 cm\n",
      "Measured Distance = 104.6 cm\n",
      "Measured Distance = 104.7 cm\n",
      "Measurement stopped by User\n"
     ]
    }
   ],
   "source": [
    "#Libraries\n",
    "import RPi.GPIO as GPIO\n",
    "import time\n",
    " \n",
    "#GPIO Mode (BOARD / BCM)\n",
    "GPIO.setmode(GPIO.BCM)\n",
    " \n",
    "#set GPIO Pins\n",
    "GPIO_TRIGGER = 18\n",
    "GPIO_ECHO = 24\n",
    " \n",
    "#set GPIO direction (IN / OUT)\n",
    "GPIO.setup(GPIO_TRIGGER, GPIO.OUT)\n",
    "GPIO.setup(GPIO_ECHO, GPIO.IN)\n",
    " \n",
    "def distance():\n",
    "    # set Trigger to HIGH\n",
    "    GPIO.output(GPIO_TRIGGER, True)\n",
    " \n",
    "    # set Trigger after 0.01ms to LOW\n",
    "    time.sleep(0.00001)\n",
    "    GPIO.output(GPIO_TRIGGER, False)\n",
    " \n",
    "    StartTime = time.time()\n",
    "    StopTime = time.time()\n",
    " \n",
    "    # save StartTime\n",
    "    while GPIO.input(GPIO_ECHO) == 0:\n",
    "        StartTime = time.time()\n",
    " \n",
    "    # save time of arrival\n",
    "    while GPIO.input(GPIO_ECHO) == 1:\n",
    "        StopTime = time.time()\n",
    " \n",
    "    # time difference between start and arrival\n",
    "    TimeElapsed = StopTime - StartTime\n",
    "    # multiply with the sonic speed (34300 cm/s)\n",
    "    # and divide by 2, because there and back\n",
    "    distance = (TimeElapsed * 34300) / 2\n",
    " \n",
    "    return distance\n",
    " \n",
    "if __name__ == '__main__':\n",
    "    try:\n",
    "        while True:\n",
    "            dist = distance()\n",
    "            print (\"Measured Distance = %.1f cm\" % dist)\n",
    "            time.sleep(1)\n",
    " \n",
    "        # Reset by pressing CTRL + C\n",
    "    except KeyboardInterrupt:\n",
    "        print(\"Measurement stopped by User\")\n",
    "        GPIO.cleanup()"
   ]
  },
  {
   "cell_type": "code",
   "execution_count": null,
   "metadata": {
    "collapsed": true
   },
   "outputs": [],
   "source": []
  }
 ],
 "metadata": {
  "kernelspec": {
   "display_name": "Python 2",
   "language": "python",
   "name": "python2"
  },
  "language_info": {
   "codemirror_mode": {
    "name": "ipython",
    "version": 2
   },
   "file_extension": ".py",
   "mimetype": "text/x-python",
   "name": "python",
   "nbconvert_exporter": "python",
   "pygments_lexer": "ipython2",
   "version": "2.7.9"
  }
 },
 "nbformat": 4,
 "nbformat_minor": 2
}
