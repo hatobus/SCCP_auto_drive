{
 "cells": [
  {
   "cell_type": "code",
   "execution_count": 11,
   "metadata": {},
   "outputs": [
    {
     "name": "stdout",
     "output_type": "stream",
     "text": [
      "Measured Distance = 31.1 cm\n",
      "Measured Distance = 31.1 cm\n",
      "Measured Distance = 31.9 cm\n",
      "Measurement stopped by User\n"
     ]
    }
   ],
   "source": [
    "#Libraries\n",
    "import RPi.GPIO as GPIO\n",
    "import time\n",
    " \n",
    "#GPIO Mode (BOARD / BCM)\n",
    "GPIO.setmode(GPIO.BCM)\n",
    " \n",
    "#set GPIO Pins\n",
    "GPIO_TRIGGER = 18\n",
    "GPIO_ECHO = 23\n",
    " \n",
    "#set GPIO direction (IN / OUT)\n",
    "GPIO.setup(GPIO_TRIGGER, GPIO.OUT)\n",
    "GPIO.setup(GPIO_ECHO, GPIO.IN)\n",
    " \n",
    "def distance():\n",
    "    # set Trigger to HIGH\n",
    "    GPIO.output(GPIO_TRIGGER, True)\n",
    " \n",
    "    # set Trigger after 0.01ms to LOW\n",
    "    time.sleep(0.00001)\n",
    "    GPIO.output(GPIO_TRIGGER, False)\n",
    " \n",
    "    StartTime = time.time()\n",
    "    StopTime = time.time()\n",
    " \n",
    "    # save StartTime\n",
    "    while GPIO.input(GPIO_ECHO) == 0:\n",
    "        StartTime = time.time()\n",
    " \n",
    "    # save time of arrival\n",
    "    while GPIO.input(GPIO_ECHO) == 1:\n",
    "        StopTime = time.time()\n",
    " \n",
    "    # time difference between start and arrival\n",
    "    TimeElapsed = StopTime - StartTime\n",
    "    # multiply with the sonic speed (34300 cm/s)\n",
    "    # and divide by 2, because there and back\n",
    "    distance = (TimeElapsed * 34300) / 2\n",
    " \n",
    "    return distance\n",
    " \n",
    "if __name__ == '__main__':\n",
    "    try:\n",
    "        while True:\n",
    "            dist1 = distance()\n",
    "            print (\"Measured Distance = %.1f cm\" % dist1)\n",
    "            time.sleep(1)\n",
    " \n",
    "        # Reset by pressing CTRL + C\n",
    "    except KeyboardInterrupt:\n",
    "        print(\"Measurement stopped by User\")\n",
    "        GPIO.cleanup()"
   ]
  },
  {
   "cell_type": "markdown",
   "metadata": {
    "collapsed": true
   },
   "source": [
    "### memo\n",
    "距離センサーに繋いでいるピン一覧\n",
    "\n",
    "|場所|Trig|Echo|\n",
    "|:--:|:--:|:--:|\n",
    "|前|4|24|\n",
    "|後ろ|20|21|\n",
    "|右後ろ|18|23|\n",
    "|左前|13|6|\n",
    "|左後ろ|19|26|"
   ]
  },
  {
   "cell_type": "markdown",
   "metadata": {
    "collapsed": true
   },
   "source": [
    "左，前,後ろはOK"
   ]
  },
  {
   "cell_type": "code",
   "execution_count": null,
   "metadata": {
    "collapsed": true
   },
   "outputs": [],
   "source": [
    "GPIO.cleanup()"
   ]
  },
  {
   "cell_type": "code",
   "execution_count": null,
   "metadata": {
    "collapsed": true
   },
   "outputs": [],
   "source": []
  }
 ],
 "metadata": {
  "kernelspec": {
   "display_name": "Python 2",
   "language": "python",
   "name": "python2"
  },
  "language_info": {
   "codemirror_mode": {
    "name": "ipython",
    "version": 2
   },
   "file_extension": ".py",
   "mimetype": "text/x-python",
   "name": "python",
   "nbconvert_exporter": "python",
   "pygments_lexer": "ipython2",
   "version": "2.7.9"
  }
 },
 "nbformat": 4,
 "nbformat_minor": 2
}
