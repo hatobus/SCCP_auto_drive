{
 "cells": [
  {
   "cell_type": "code",
   "execution_count": 24,
   "metadata": {
    "collapsed": true
   },
   "outputs": [],
   "source": [
    "# -*- coding: utf-8 -*-\n",
    "from ipywidgets import *\n",
    "from IPython.display import display\n",
    "import threading\n",
    "import time\n",
    "import smbus\n",
    "import sys\n",
    "import autodrive\n",
    "reload(autodrive)\n",
    "import LVEZ1\n",
    "reload(LVEZ1)\n",
    "import csv\n",
    "import RPi.GPIO as GPIO\n",
    "import Operate\n",
    "\n",
    "LV = LVEZ1.Dist()\n",
    "bus = smbus.SMBus(1)\n",
    "D = autodrive.Car()\n",
    "O = Operate.Operate()"
   ]
  },
  {
   "cell_type": "code",
   "execution_count": 32,
   "metadata": {},
   "outputs": [
    {
     "data": {
      "application/vnd.jupyter.widget-view+json": {
       "model_id": "e88593f48f76484991b20d8d6a1b8486"
      }
     },
     "metadata": {},
     "output_type": "display_data"
    },
    {
     "data": {
      "application/vnd.jupyter.widget-view+json": {
       "model_id": "670f6ddf5d514e1e8f0c9f9dcb025493"
      }
     },
     "metadata": {},
     "output_type": "display_data"
    },
    {
     "data": {
      "application/vnd.jupyter.widget-view+json": {
       "model_id": "c23c6458fbcd4453a005ed2ea65b08f3"
      }
     },
     "metadata": {},
     "output_type": "display_data"
    },
    {
     "data": {
      "application/vnd.jupyter.widget-view+json": {
       "model_id": "716ae12f43b24a9a8176cf746ba3b6b8"
      }
     },
     "metadata": {},
     "output_type": "display_data"
    },
    {
     "data": {
      "application/vnd.jupyter.widget-view+json": {
       "model_id": "f2d012d19131476680090c99a71b198a"
      }
     },
     "metadata": {},
     "output_type": "display_data"
    },
    {
     "data": {
      "application/vnd.jupyter.widget-view+json": {
       "model_id": "2de5bb1e12904b249c881fbed1610d36"
      }
     },
     "metadata": {},
     "output_type": "display_data"
    },
    {
     "data": {
      "application/vnd.jupyter.widget-view+json": {
       "model_id": "fffb9c456fc14da29c441af49cab9963"
      }
     },
     "metadata": {},
     "output_type": "display_data"
    }
   ],
   "source": [
    "# dlist1 = []\n",
    "# f = open('distdata.csv', 'w')\n",
    "# csvWriter = csv.writer(f)\n",
    "\n",
    "dlist_front = []\n",
    "dlist_frontL = []\n",
    "dlist_frontR = []\n",
    "dlist_behindR = []\n",
    "dlist_back = []\n",
    "\n",
    "class getdist(threading.Thread):\n",
    " \n",
    "    def __init__(self):\n",
    "         threading.Thread.__init__(self)\n",
    "\n",
    "    def run(self):\n",
    "        while True:\n",
    "            dlist_front.append(LV.Measure(20))\n",
    "            dlist_frontR.append(LV.Measure(21))\n",
    "            dlist_frontL.append(LV.Measure(19))\n",
    "            dlist_behindR.append(LV.Measure(26))\n",
    "            dlist_back.append(LV.Measure(6))\n",
    "            time.sleep(1)\n",
    "            \n",
    " \n",
    "th = getdist()\n",
    "th.setDaemon(True)\n",
    "th.start()\n",
    "\n",
    "try:\n",
    "    button1 = widgets.Button(description=\"Go ahead!\")\n",
    "    button2 = widgets.Button(description=\"Back!\")\n",
    "    button3 = widgets.Button(description=\"Stop!!\")\n",
    "    button4 = widgets.Button(description=\"Left Trun\")\n",
    "    button5 = widgets.Button(description=\"Right Trun\")\n",
    "\n",
    "    display(button1)\n",
    "    display(button2)\n",
    "    display(button3)\n",
    "    display(button4)\n",
    "    display(button5)\n",
    "\n",
    "    def go_ahead(b):\n",
    "        if handle.value == 0:\n",
    "            D.forward(speed.value)\n",
    "\n",
    "        elif handle.value > 0:\n",
    "            D.right(speed.value,handle.value)\n",
    "\n",
    "        elif handle.value < 0:\n",
    "            D.left(speed.value,-1 * handle.value)\n",
    "\n",
    "    def back(b):\n",
    "        D.back(speed.value)\n",
    "\n",
    "    def stop(b):\n",
    "        D.brake()\n",
    "\n",
    "    def l_turn(b):\n",
    "        D.R_forward(speed.value)\n",
    "        D.L_back(speed.value)\n",
    "\n",
    "    def r_turn(b):\n",
    "        D.L_forward(speed.value)\n",
    "        D.R_back(speed.value)\n",
    "\n",
    "    speed = IntSlider(description='Speed')\n",
    "    display(speed)\n",
    "    handle = IntSlider(min=-10, max=10, value=0,description='Handle_pitch')\n",
    "    display(handle)\n",
    "    button1.on_click(go_ahead)\n",
    "    button2.on_click(back)\n",
    "    button3.on_click(stop)\n",
    "    button4.on_click(l_turn)\n",
    "    button5.on_click(r_turn)\n",
    "\n",
    "except KeyboardInterrupt:\n",
    "    print(dlist_front)\n",
    "#     csvWriter.writerow(dlist_front) \n",
    "#     writer = csv.writer(f, lineterminator='\\n')\n",
    "    GPIO.cleanup()\n",
    "#     f.close()"
   ]
  },
  {
   "cell_type": "code",
   "execution_count": 41,
   "metadata": {},
   "outputs": [],
   "source": [
    "f = open('distdata.csv', 'w')\n",
    "csvWriter = csv.writer(f)\n",
    "# print(dlist_frontL)\n",
    "csvWriter.writerow(dlist_front) \n",
    "writer = csv.writer(f, lineterminator='\\n')\n",
    "csvWriter.writerow(dlist_frontR)\n",
    "writer = csv.writer(f, lineterminator='\\n')\n",
    "csvWriter.writerow(dlist_frontL)\n",
    "writer = csv.writer(f, lineterminator='\\n')\n",
    "csvWriter.writerow(dlist_behindR)\n",
    "writer = csv.writer(f, lineterminator='\\n')\n",
    "csvWriter.writerow(dlist_back)\n",
    "writer = csv.writer(f, lineterminator='\\n')\n",
    "\n",
    "f.close()"
   ]
  },
  {
   "cell_type": "code",
   "execution_count": null,
   "metadata": {
    "collapsed": true
   },
   "outputs": [],
   "source": []
  }
 ],
 "metadata": {
  "kernelspec": {
   "display_name": "Python 2",
   "language": "python",
   "name": "python2"
  },
  "language_info": {
   "codemirror_mode": {
    "name": "ipython",
    "version": 2
   },
   "file_extension": ".py",
   "mimetype": "text/x-python",
   "name": "python",
   "nbconvert_exporter": "python",
   "pygments_lexer": "ipython2",
   "version": "2.7.9"
  }
 },
 "nbformat": 4,
 "nbformat_minor": 2
}
