{
 "cells": [
  {
   "cell_type": "code",
   "execution_count": 2,
   "metadata": {
    "collapsed": true
   },
   "outputs": [],
   "source": [
    "#!/usr/bin/env python\n",
    "# -*- coding: utf-8 -*-\n",
    "\n",
    "import smbus\n",
    "import time\n",
    "import sys\n",
    "\n",
    "bus = smbus.SMBus(1)"
   ]
  },
  {
   "cell_type": "code",
   "execution_count": 11,
   "metadata": {
    "collapsed": true
   },
   "outputs": [],
   "source": [
    "#スピードは1~58(0x3A)の範囲で指定\n",
    "def L_forward(speed):\n",
    "    cmd = 0x01\n",
    "    sval = cmd | ((speed+5)<<2)\n",
    "    print sval>>2\n",
    "    bus.write_i2c_block_data(0x64,0x00,[sval])\n",
    "    \n",
    "def L_stop():\n",
    "    bus.write_i2c_block_data(0x64,0x00,[0x00])\n",
    "    \n",
    "def R_forward(speed):\n",
    "    cmd = 0x01\n",
    "    sval = cmd | ((speed+5)<<2)\n",
    "    print sval>>2\n",
    "    bus.write_i2c_block_data(0x62,0x00,[sval])\n",
    "    \n",
    "def R_stop():\n",
    "    bus.write_i2c_block_data(0x62,0x00,[0x00])"
   ]
  },
  {
   "cell_type": "code",
   "execution_count": 26,
   "metadata": {},
   "outputs": [
    {
     "name": "stdout",
     "output_type": "stream",
     "text": [
      "6\n",
      "6\n",
      "7\n",
      "7\n",
      "8\n",
      "8\n",
      "9\n",
      "9\n",
      "10\n",
      "10\n",
      "11\n",
      "11\n",
      "12\n",
      "12\n",
      "13\n",
      "13\n",
      "14\n",
      "14\n",
      "15\n",
      "15\n",
      "16\n",
      "16\n",
      "17\n",
      "17\n",
      "18\n",
      "18\n",
      "19\n",
      "19\n",
      "20\n",
      "20\n",
      "21\n",
      "21\n",
      "22\n",
      "22\n",
      "23\n",
      "23\n",
      "24\n",
      "24\n",
      "25\n",
      "25\n",
      "26\n",
      "26\n",
      "27\n",
      "27\n",
      "28\n",
      "28\n",
      "29\n",
      "29\n",
      "30\n",
      "30\n",
      "31\n",
      "31\n",
      "32\n",
      "32\n",
      "33\n",
      "33\n",
      "34\n",
      "34\n",
      "35\n",
      "35\n",
      "36\n",
      "36\n",
      "37\n",
      "37\n",
      "38\n",
      "38\n",
      "39\n",
      "39\n",
      "40\n",
      "41\n",
      "41\n",
      "42\n",
      "42\n",
      "43\n",
      "43\n",
      "44\n",
      "44\n",
      "45\n",
      "45\n",
      "46\n",
      "46\n",
      "47\n",
      "47\n",
      "48\n",
      "48\n",
      "49\n",
      "49\n"
     ]
    }
   ],
   "source": [
    "for i in range(0x01,0x2D,1):\n",
    "    try:\n",
    "        L_forward(i)\n",
    "        R_forward(i)\n",
    "    except:\n",
    "        pass\n",
    "    time.sleep(0.1)\n",
    "L_stop()\n",
    "R_stop()\n"
   ]
  },
  {
   "cell_type": "code",
   "execution_count": 25,
   "metadata": {},
   "outputs": [],
   "source": [
    "L_stop()\n",
    "R_stop()"
   ]
  },
  {
   "cell_type": "code",
   "execution_count": 7,
   "metadata": {},
   "outputs": [
    {
     "name": "stdout",
     "output_type": "stream",
     "text": [
      "     0  1  2  3  4  5  6  7  8  9  a  b  c  d  e  f\r\n",
      "00:          -- -- -- -- -- -- -- -- -- -- -- -- -- \r\n",
      "10: -- -- -- -- -- -- -- -- -- -- -- -- -- -- -- -- \r\n",
      "20: -- -- -- -- -- -- -- -- -- -- -- -- -- -- -- -- \r\n",
      "30: -- -- -- -- -- -- -- -- -- -- -- -- -- -- -- -- \r\n",
      "40: -- -- -- -- -- -- -- -- -- -- -- -- -- -- -- -- \r\n",
      "50: -- -- -- -- -- -- -- -- -- -- -- -- -- -- -- -- \r\n",
      "60: -- -- -- -- 64 -- -- -- -- -- -- -- -- -- -- -- \r\n",
      "70: -- -- -- -- -- -- -- --                         \r\n"
     ]
    }
   ],
   "source": [
    "!i2cdetect -y 1"
   ]
  },
  {
   "cell_type": "code",
   "execution_count": null,
   "metadata": {
    "collapsed": true
   },
   "outputs": [],
   "source": []
  }
 ],
 "metadata": {
  "kernelspec": {
   "display_name": "Python 2",
   "language": "python",
   "name": "python2"
  },
  "language_info": {
   "codemirror_mode": {
    "name": "ipython",
    "version": 2
   },
   "file_extension": ".py",
   "mimetype": "text/x-python",
   "name": "python",
   "nbconvert_exporter": "python",
   "pygments_lexer": "ipython2",
   "version": "2.7.9"
  }
 },
 "nbformat": 4,
 "nbformat_minor": 2
}
