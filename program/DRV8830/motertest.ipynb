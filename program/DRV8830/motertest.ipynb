{
 "cells": [
  {
   "cell_type": "markdown",
   "metadata": {
    "collapsed": true
   },
   "source": [
    "# モーターのテスト"
   ]
  },
  {
   "cell_type": "markdown",
   "metadata": {},
   "source": [
    "下はライブラリをインポートする処理"
   ]
  },
  {
   "cell_type": "code",
   "execution_count": 42,
   "metadata": {
    "collapsed": true
   },
   "outputs": [],
   "source": [
    "#!/usr/bin/env python\n",
    "# -*- coding: utf-8 -*-\n",
    "\n",
    "import smbus\n",
    "import time\n",
    "import sys\n",
    "\n",
    "bus = smbus.SMBus(1)"
   ]
  },
  {
   "cell_type": "markdown",
   "metadata": {},
   "source": [
    "関数の中身です．"
   ]
  },
  {
   "cell_type": "code",
   "execution_count": 48,
   "metadata": {
    "collapsed": true
   },
   "outputs": [],
   "source": [
    "#スピードは1~58(0x3A)の範囲で指定\n",
    "def L_forward(speed): \n",
    "    # 左モーターの正転\n",
    "    cmd = 0x01\n",
    "    sval = cmd | ((speed+5)<<2)\n",
    "    bus.write_i2c_block_data(0x64,0x00,[sval])\n",
    "    \n",
    "def L_back(speed):\n",
    "    #左モーターの逆転\n",
    "    cmd = 0x02\n",
    "    sval = cmd | ((speed+5)<<2)\n",
    "    bus.write_i2c_block_data(0x64,0x00,[sval])\n",
    "    \n",
    "def L_stop():\n",
    "    #左モーターの停止\n",
    "    bus.write_i2c_block_data(0x64,0x00,[0x00])\n",
    "    \n",
    "def R_forward(speed):\n",
    "    #右モーターの正転\n",
    "    cmd = 0x01\n",
    "    sval = cmd | ((speed+5)<<2)\n",
    "    bus.write_i2c_block_data(0x62,0x00,[sval])\n",
    "    \n",
    "def R_back(speed):\n",
    "    #右モーターの逆転\n",
    "    cmd = 0x02\n",
    "    sval = cmd | ((speed+5)<<2)\n",
    "    bus.write_i2c_block_data(0x62,0x00,[sval])    \n",
    "    \n",
    "def R_stop():\n",
    "    #右モーターのストップ\n",
    "    bus.write_i2c_block_data(0x62,0x00,[0x00])\n",
    "    \n",
    "def Turn_L(speed):\n",
    "    #左に曲がる処理\n",
    "    #右のほうがspeedが左よりも10進数で15だけ大きい\n",
    "    #ちなみにspeedが15よりも小さい時はspeedの半分の速さで動く\n",
    "    \n",
    "    left = speed - 0xF\n",
    "    if left  < 0:\n",
    "        left = speed / 0x2\n",
    "        \n",
    "    L_forward(left)\n",
    "    R_forward(speed)\n",
    "    \n",
    "def Turn_R(speed):\n",
    "    #右に曲がる処理\n",
    "    #左のほうがspeedが左よりも10進数で15だけ大きい\n",
    "    #ちなみにspeedが15よりも小さい時はspeedの半分の速さで動く\n",
    "    \n",
    "    right = speed - 0xF\n",
    "    if right  < 0:\n",
    "        right = speed / 0x2\n",
    "        \n",
    "    L_forward(speed)\n",
    "    R_forward(right)\n",
    "    \n",
    "def Turn_there(speed):\n",
    "    #　その場で回転することができる．\n",
    "    # できれば低速の方が好ましい\n",
    "    \n",
    "    L_forward(speed)\n",
    "    R_back(speed)"
   ]
  },
  {
   "cell_type": "markdown",
   "metadata": {},
   "source": [
    "## まずは両方のモーターの正転から始める．\n",
    "forループで速さを逐次変化させ，だんだんと速さを早くしていく．暴走する可能性もあるのでキルスイッチ（物理スイッチまたは下にある処理）を\n",
    "設置し，暴走状態になった時でも停止ができるようにするとよい．"
   ]
  },
  {
   "cell_type": "code",
   "execution_count": 28,
   "metadata": {},
   "outputs": [],
   "source": [
    "for i in range(0x01,0x1E,1):\n",
    "    try:\n",
    "        L_forward(i)\n",
    "        R_forward(i)\n",
    "    except:\n",
    "        pass\n",
    "    time.sleep(0.1)\n",
    "    \n",
    "L_stop()\n",
    "R_stop()\n"
   ]
  },
  {
   "cell_type": "markdown",
   "metadata": {
    "collapsed": true
   },
   "source": [
    "## 両方のモーターのバックをする\n",
    "これも正転と同じようにforループで速さを逐次変化させている．\n",
    "バックは念のためということで速さを抑えたほうがいいと思われる．"
   ]
  },
  {
   "cell_type": "code",
   "execution_count": 50,
   "metadata": {
    "collapsed": true
   },
   "outputs": [],
   "source": [
    "for i in range(0x01,0x14,1):\n",
    "    try:\n",
    "        L_back(i)\n",
    "        R_back(i)\n",
    "    except:\n",
    "        pass\n",
    "    time.sleep(0.1)\n",
    "L_stop()\n",
    "R_stop()"
   ]
  },
  {
   "cell_type": "markdown",
   "metadata": {},
   "source": [
    "## 左右で別の動きをさせる"
   ]
  },
  {
   "cell_type": "markdown",
   "metadata": {},
   "source": [
    "### その場で回転\n",
    "今回のキモである左右別々の動きである．これを実装するとその場での回転ができる．速すぎるとパーツが脱落する恐れもあり，あまり推奨できないため低速で回転することがいいと思われる．"
   ]
  },
  {
   "cell_type": "code",
   "execution_count": 53,
   "metadata": {},
   "outputs": [],
   "source": [
    "Turn_there(0xF)\n",
    "time.sleep(2)\n",
    "\n",
    "L_stop()\n",
    "R_stop()"
   ]
  },
  {
   "cell_type": "markdown",
   "metadata": {},
   "source": [
    "### 右方向に曲がる\n",
    "右方向に舵角を取り，右方向に曲がる処理である．"
   ]
  },
  {
   "cell_type": "code",
   "execution_count": 41,
   "metadata": {},
   "outputs": [],
   "source": [
    "Turn_R(0x14)\n",
    "time.sleep(2)\n",
    "\n",
    "L_stop()\n",
    "R_stop()"
   ]
  },
  {
   "cell_type": "markdown",
   "metadata": {},
   "source": [
    "### 左方向に曲がる\n",
    "左方向に高くを取り，左方向に曲がる処理である．"
   ]
  },
  {
   "cell_type": "code",
   "execution_count": 54,
   "metadata": {
    "collapsed": true
   },
   "outputs": [],
   "source": [
    "Turn_L(0x14)\n",
    "time.sleep(2)\n",
    "\n",
    "L_stop()\n",
    "R_stop()"
   ]
  },
  {
   "cell_type": "markdown",
   "metadata": {},
   "source": [
    "# キルスイッチ\n",
    "突然動きが止まらなくなったり，強制的に動きを停止させる時にキルスイッチの役目をする処理，ただstopさせているだけだがこれで停止できる．"
   ]
  },
  {
   "cell_type": "code",
   "execution_count": null,
   "metadata": {
    "collapsed": true
   },
   "outputs": [],
   "source": [
    "L_stop()\n",
    "R_stop()"
   ]
  }
 ],
 "metadata": {
  "kernelspec": {
   "display_name": "Python 2",
   "language": "python",
   "name": "python2"
  },
  "language_info": {
   "codemirror_mode": {
    "name": "ipython",
    "version": 2
   },
   "file_extension": ".py",
   "mimetype": "text/x-python",
   "name": "python",
   "nbconvert_exporter": "python",
   "pygments_lexer": "ipython2",
   "version": "2.7.9"
  }
 },
 "nbformat": 4,
 "nbformat_minor": 2
}
