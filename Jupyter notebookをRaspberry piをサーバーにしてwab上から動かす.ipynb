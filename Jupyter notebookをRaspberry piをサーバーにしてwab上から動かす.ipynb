{
 "cells": [
  {
   "cell_type": "markdown",
   "metadata": {},
   "source": [
    "### Raspberry piのアドレスが分かれば，Web上からRaspberry piのjupyter notebookにアクセスできるようになります．"
   ]
  },
  {
   "cell_type": "markdown",
   "metadata": {},
   "source": [
    "### 前段階\n",
    "- jupyter notebookがインストールしてある\n",
    "- 同一LAN上にRaspberry piとPCが存在している"
   ]
  },
  {
   "cell_type": "markdown",
   "metadata": {},
   "source": [
    "## 固定Tokenの作成\n",
    "ちなみに，jupyter notebookの上で,コマンドの前に ! をつけるとjupyter notebook上でterminalのコマンドを実行することができます．"
   ]
  },
  {
   "cell_type": "code",
   "execution_count": null,
   "metadata": {
    "collapsed": true
   },
   "outputs": [],
   "source": [
    "!jupyter notebook --generate-config"
   ]
  },
  {
   "cell_type": "markdown",
   "metadata": {},
   "source": [
    "#### これでtokenがconfigファイルが作成される．\n",
    "\n",
    "次にconfigファイルを編集"
   ]
  },
  {
   "cell_type": "markdown",
   "metadata": {},
   "source": [
    "ターミナルで `vi ~/.jupyter/jupyter_notebook_config.py` などでconfigファイルを編集する\n"
   ]
  },
  {
   "cell_type": "markdown",
   "metadata": {},
   "source": [
    "c.NotebookApp.token = '<Your passwd>'\n",
    "c.NotebookApp.tokenの後ろで，ログインパスを作成．\n",
    "\n",
    "```\n",
    "## Token used for authenticating first-time connections to the server.\n",
    "#\n",
    "#  When no password is enabled, the default is to generate a new, random token.\n",
    "#\n",
    "#  Setting to an empty string disables authentication altogether, which is NOT\n",
    "#  RECOMMENDED.\n",
    "c.NotebookApp.token = '<Your passwd>'\n",
    "```"
   ]
  },
  {
   "cell_type": "markdown",
   "metadata": {},
   "source": [
    "### 起動する"
   ]
  },
  {
   "cell_type": "code",
   "execution_count": null,
   "metadata": {
    "collapsed": true
   },
   "outputs": [],
   "source": [
    "!jupyter-notebook --ip= --config=/home/pi/.jupyter/jupyter_notebook_config.py"
   ]
  },
  {
   "cell_type": "code",
   "execution_count": null,
   "metadata": {
    "collapsed": true
   },
   "outputs": [],
   "source": [
    "!ifconfig -a"
   ]
  },
  {
   "cell_type": "markdown",
   "metadata": {},
   "source": [
    "上で取得したwlan0のIPアドレスでweb上からログイン"
   ]
  },
  {
   "cell_type": "markdown",
   "metadata": {},
   "source": [
    "自分のマシンのブラウザから\n",
    "\n",
    "http://192.168.x.x:8888/\n",
    "        \n",
    "に接続（xの部分は自分のRaspberry piのアドレスを入力）"
   ]
  },
  {
   "cell_type": "markdown",
   "metadata": {},
   "source": [
    " ここまでくればRaspberry piのjupyter notebookにweb上から入ることができるが，\n",
    "これだといちいちterminal上からjupyter notebookを起動しなければならない"
   ]
  },
  {
   "cell_type": "markdown",
   "metadata": {},
   "source": [
    "そのためにRaspberry piのjupyterをservice化する"
   ]
  },
  {
   "cell_type": "markdown",
   "metadata": {},
   "source": [
    "`/etc/sysyemd/system`以下に、jupyter.serviceを作成する。"
   ]
  },
  {
   "cell_type": "markdown",
   "metadata": {},
   "source": [
    "`/etc/sysyemd/system/jupyter.service`\n",
    "\n",
    "```\n",
    "[Unit]\n",
    "Description = Jupyter Notebook\n",
    "\n",
    "[Service]\n",
    "PIDFile=/var/run/jupyter.pid\n",
    "ExecStart=/usr/local/bin/jupyter-notebook --ip= --config=/home/pi/.jupyter/jupyter_notebook_config.py\n",
    "User=pi\n",
    "Group=pi\n",
    "Restart=always\n",
    "RestartSec=10\n",
    "WorkingDirectory=/home/pi/Documents\n",
    "Type=simple\n",
    "\n",
    "[Install]\n",
    "WantedBy=multi-user.target\n",
    "```"
   ]
  },
  {
   "cell_type": "markdown",
   "metadata": {},
   "source": [
    "ここまできたら`systemctl`で設定を確認"
   ]
  },
  {
   "cell_type": "code",
   "execution_count": 6,
   "metadata": {
    "collapsed": false
   },
   "outputs": [
    {
     "name": "stdout",
     "output_type": "stream",
     "text": [
      "/bin/sh: systemctl: command not found\r\n"
     ]
    }
   ],
   "source": [
    "!systemctl list-unit-files --type=service | grep jupyter"
   ]
  },
  {
   "cell_type": "markdown",
   "metadata": {},
   "source": [
    "jupyter.service       invalid"
   ]
  },
  {
   "cell_type": "markdown",
   "metadata": {},
   "source": [
    "と出れば成功"
   ]
  },
  {
   "cell_type": "markdown",
   "metadata": {},
   "source": [
    "### Serviceの起動　"
   ]
  },
  {
   "cell_type": "code",
   "execution_count": null,
   "metadata": {
    "collapsed": true
   },
   "outputs": [],
   "source": [
    "!sudo systemctl enable jupyter"
   ]
  }
 ],
 "metadata": {
  "kernelspec": {
   "display_name": "Python 3",
   "language": "python",
   "name": "python3"
  },
  "language_info": {
   "codemirror_mode": {
    "name": "ipython",
    "version": 3
   },
   "file_extension": ".py",
   "mimetype": "text/x-python",
   "name": "python",
   "nbconvert_exporter": "python",
   "pygments_lexer": "ipython3",
   "version": "3.6.0"
  }
 },
 "nbformat": 4,
 "nbformat_minor": 2
}
